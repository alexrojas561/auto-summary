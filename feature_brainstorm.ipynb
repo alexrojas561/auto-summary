{
 "cells": [
  {
   "cell_type": "markdown",
   "metadata": {},
   "source": [
    "# Brainstorm possible features to automate data analysis"
   ]
  },
  {
   "cell_type": "code",
   "execution_count": 243,
   "metadata": {},
   "outputs": [],
   "source": [
    "import pandas as pd \n",
    "import numpy as np\n",
    "import seaborn as sns\n",
    "from pathlib import Path"
   ]
  },
  {
   "cell_type": "markdown",
   "metadata": {},
   "source": [
    "## Load dataset - leave as is for now - feature later"
   ]
  },
  {
   "cell_type": "code",
   "execution_count": 244,
   "metadata": {},
   "outputs": [],
   "source": [
    "data = pd.read_excel('~/Downloads/Alex example.xlsx', engine='openpyxl')\n",
    "data.columns = data.iloc[0]\n",
    "data.drop(0, axis=0, inplace=True)\n",
    "data.reset_index(drop=True, inplace=True)\n",
    "data = data.iloc[0:68,:]"
   ]
  },
  {
   "cell_type": "markdown",
   "metadata": {},
   "source": [
    "## Create a class to automate data cleaning tasks\n",
    "- Keep methods concise and functional to allow for a more functional pipe to be built from it\n",
    "    - More user facing for now, make internal functions later\n",
    "- MVP each feature, keep error checking and elegance for later"
   ]
  },
  {
   "cell_type": "code",
   "execution_count": 245,
   "metadata": {},
   "outputs": [],
   "source": [
    "class data_clean():\n",
    "    \n",
    "    def __init__(self, df):\n",
    "        self.df = df\n",
    "        self.num_cols = len(df.columns)\n",
    "        \n",
    "        \n",
    "    def duplicate_check(self):    \n",
    "        ''' Checks for any duplicates within the dataset''' \n",
    "        print('[DUPLICATE TEST] Beginning to check for duplicates \\n')\n",
    "        dup = self.df.duplicated(keep=False)\n",
    "        \n",
    "        if dup.empty:\n",
    "            print('No duplicates found')\n",
    "        else:\n",
    "            print(f'Found {dup.sum()} possible duplicates')\n",
    "            display(self.df[dup])\n",
    "\n",
    "            \n",
    "    def type_check(self):\n",
    "        ''' Check if all values in a column are the same type'''\n",
    "        print('[TYPE TEST] Beginning to check column types \\n')\n",
    "        global tmp\n",
    "        tmp_mask = []\n",
    "        tmp_types = []\n",
    "        for i in range(self.num_cols):\n",
    "            col = self.df.iloc[:,i]\n",
    "            all_types = col.map(type).unique()\n",
    "            num_types = len(all_types)\n",
    "            \n",
    "            if num_types == 1:\n",
    "                tmp_mask.append(True)\n",
    "            else:\n",
    "                tmp_mask.append(False)\n",
    "                \n",
    "            tmp_types.append(all_types)\n",
    "            \n",
    "        tmp_mask = np.array(tmp_mask)\n",
    "        \n",
    "        print(f'CLEARED: {tmp_mask.sum()} columns passed the test')\n",
    "        print(self.df.columns[tmp_mask].values, tmp_types[tmp_mask])\n",
    "        \n",
    "        print(f'FAILED: {(~tmp_mask).sum()} columns failed the test')\n",
    "        print(self.df.columns[~tmp_mask].values)\n",
    "#             if num_types == 1:\n",
    "#                 append()\n",
    "#                 print(f'All values within {col.name} are {all_types}')\n",
    "#             else:\n",
    "#                 print(f'{num_types} data types found within {col.name}')\n",
    "\n",
    "\n"
   ]
  },
  {
   "cell_type": "code",
   "execution_count": 246,
   "metadata": {
    "scrolled": true
   },
   "outputs": [
    {
     "name": "stdout",
     "output_type": "stream",
     "text": [
      "[DUPLICATE TEST] Beginning to check for duplicates \n",
      "\n",
      "Found 5 possible duplicates\n"
     ]
    },
    {
     "data": {
      "text/html": [
       "<div>\n",
       "<style scoped>\n",
       "    .dataframe tbody tr th:only-of-type {\n",
       "        vertical-align: middle;\n",
       "    }\n",
       "\n",
       "    .dataframe tbody tr th {\n",
       "        vertical-align: top;\n",
       "    }\n",
       "\n",
       "    .dataframe thead th {\n",
       "        text-align: right;\n",
       "    }\n",
       "</style>\n",
       "<table border=\"1\" class=\"dataframe\">\n",
       "  <thead>\n",
       "    <tr style=\"text-align: right;\">\n",
       "      <th></th>\n",
       "      <th>Lactate</th>\n",
       "      <th>pH</th>\n",
       "      <th>pO2</th>\n",
       "      <th>Trop</th>\n",
       "      <th>Hgb</th>\n",
       "      <th>Cr</th>\n",
       "      <th>Escalation (IABP, Impella, Ecmo)</th>\n",
       "    </tr>\n",
       "  </thead>\n",
       "  <tbody>\n",
       "    <tr>\n",
       "      <th>0</th>\n",
       "      <td>NaN</td>\n",
       "      <td>NaN</td>\n",
       "      <td>NaN</td>\n",
       "      <td>NaN</td>\n",
       "      <td>NaN</td>\n",
       "      <td>NaN</td>\n",
       "      <td>1</td>\n",
       "    </tr>\n",
       "    <tr>\n",
       "      <th>12</th>\n",
       "      <td>NaN</td>\n",
       "      <td>7.4</td>\n",
       "      <td>107</td>\n",
       "      <td>0.02</td>\n",
       "      <td>15.3</td>\n",
       "      <td>0.8</td>\n",
       "      <td>1</td>\n",
       "    </tr>\n",
       "    <tr>\n",
       "      <th>19</th>\n",
       "      <td>NaN</td>\n",
       "      <td>NaN</td>\n",
       "      <td>NaN</td>\n",
       "      <td>NaN</td>\n",
       "      <td>NaN</td>\n",
       "      <td>NaN</td>\n",
       "      <td>1</td>\n",
       "    </tr>\n",
       "    <tr>\n",
       "      <th>41</th>\n",
       "      <td>NaN</td>\n",
       "      <td>NaN</td>\n",
       "      <td>NaN</td>\n",
       "      <td>NaN</td>\n",
       "      <td>NaN</td>\n",
       "      <td>NaN</td>\n",
       "      <td>1</td>\n",
       "    </tr>\n",
       "    <tr>\n",
       "      <th>50</th>\n",
       "      <td>NaN</td>\n",
       "      <td>7.4</td>\n",
       "      <td>107</td>\n",
       "      <td>0.02</td>\n",
       "      <td>15.3</td>\n",
       "      <td>0.8</td>\n",
       "      <td>1</td>\n",
       "    </tr>\n",
       "  </tbody>\n",
       "</table>\n",
       "</div>"
      ],
      "text/plain": [
       "0  Lactate   pH  pO2  Trop   Hgb   Cr Escalation (IABP, Impella, Ecmo)\n",
       "0      NaN  NaN  NaN   NaN   NaN  NaN                                1\n",
       "12     NaN  7.4  107  0.02  15.3  0.8                                1\n",
       "19     NaN  NaN  NaN   NaN   NaN  NaN                                1\n",
       "41     NaN  NaN  NaN   NaN   NaN  NaN                                1\n",
       "50     NaN  7.4  107  0.02  15.3  0.8                                1"
      ]
     },
     "metadata": {},
     "output_type": "display_data"
    },
    {
     "name": "stdout",
     "output_type": "stream",
     "text": [
      "[TYPE TEST] Beginning to check column types \n",
      "\n",
      "CLEARED: 1 columns passed the test\n"
     ]
    },
    {
     "ename": "TypeError",
     "evalue": "only integer scalar arrays can be converted to a scalar index",
     "output_type": "error",
     "traceback": [
      "\u001b[0;31m---------------------------------------------------------------------------\u001b[0m",
      "\u001b[0;31mTypeError\u001b[0m                                 Traceback (most recent call last)",
      "\u001b[0;32m<ipython-input-246-3089d03db40e>\u001b[0m in \u001b[0;36m<module>\u001b[0;34m\u001b[0m\n\u001b[1;32m      1\u001b[0m \u001b[0mtest\u001b[0m \u001b[0;34m=\u001b[0m \u001b[0mdata_clean\u001b[0m\u001b[0;34m(\u001b[0m\u001b[0mdata\u001b[0m\u001b[0;34m)\u001b[0m\u001b[0;34m\u001b[0m\u001b[0;34m\u001b[0m\u001b[0m\n\u001b[1;32m      2\u001b[0m \u001b[0mtest\u001b[0m\u001b[0;34m.\u001b[0m\u001b[0mduplicate_check\u001b[0m\u001b[0;34m(\u001b[0m\u001b[0;34m)\u001b[0m\u001b[0;34m\u001b[0m\u001b[0;34m\u001b[0m\u001b[0m\n\u001b[0;32m----> 3\u001b[0;31m \u001b[0mtest\u001b[0m\u001b[0;34m.\u001b[0m\u001b[0mtype_check\u001b[0m\u001b[0;34m(\u001b[0m\u001b[0;34m)\u001b[0m\u001b[0;34m\u001b[0m\u001b[0;34m\u001b[0m\u001b[0m\n\u001b[0m",
      "\u001b[0;32m<ipython-input-245-f8eaba44b61e>\u001b[0m in \u001b[0;36mtype_check\u001b[0;34m(self)\u001b[0m\n\u001b[1;32m     39\u001b[0m \u001b[0;34m\u001b[0m\u001b[0m\n\u001b[1;32m     40\u001b[0m         \u001b[0mprint\u001b[0m\u001b[0;34m(\u001b[0m\u001b[0;34mf'CLEARED: {tmp_mask.sum()} columns passed the test'\u001b[0m\u001b[0;34m)\u001b[0m\u001b[0;34m\u001b[0m\u001b[0;34m\u001b[0m\u001b[0m\n\u001b[0;32m---> 41\u001b[0;31m         \u001b[0mprint\u001b[0m\u001b[0;34m(\u001b[0m\u001b[0mself\u001b[0m\u001b[0;34m.\u001b[0m\u001b[0mdf\u001b[0m\u001b[0;34m.\u001b[0m\u001b[0mcolumns\u001b[0m\u001b[0;34m[\u001b[0m\u001b[0mtmp_mask\u001b[0m\u001b[0;34m]\u001b[0m\u001b[0;34m.\u001b[0m\u001b[0mvalues\u001b[0m\u001b[0;34m,\u001b[0m \u001b[0mtmp_types\u001b[0m\u001b[0;34m[\u001b[0m\u001b[0mtmp_mask\u001b[0m\u001b[0;34m]\u001b[0m\u001b[0;34m)\u001b[0m\u001b[0;34m\u001b[0m\u001b[0;34m\u001b[0m\u001b[0m\n\u001b[0m\u001b[1;32m     42\u001b[0m \u001b[0;34m\u001b[0m\u001b[0m\n\u001b[1;32m     43\u001b[0m         \u001b[0mprint\u001b[0m\u001b[0;34m(\u001b[0m\u001b[0;34mf'FAILED: {(~tmp_mask).sum()} columns failed the test'\u001b[0m\u001b[0;34m)\u001b[0m\u001b[0;34m\u001b[0m\u001b[0;34m\u001b[0m\u001b[0m\n",
      "\u001b[0;31mTypeError\u001b[0m: only integer scalar arrays can be converted to a scalar index"
     ]
    }
   ],
   "source": [
    "test = data_clean(data)\n",
    "test.duplicate_check()\n",
    "test.type_check()"
   ]
  },
  {
   "cell_type": "code",
   "execution_count": 222,
   "metadata": {
    "scrolled": true
   },
   "outputs": [
    {
     "data": {
      "text/plain": [
       "1"
      ]
     },
     "execution_count": 222,
     "metadata": {},
     "output_type": "execute_result"
    }
   ],
   "source": [
    "tmp.sum()"
   ]
  },
  {
   "cell_type": "code",
   "execution_count": 192,
   "metadata": {},
   "outputs": [
    {
     "data": {
      "text/plain": [
       "6"
      ]
     },
     "execution_count": 192,
     "metadata": {},
     "output_type": "execute_result"
    }
   ],
   "source": [
    "(~tmp).sum()"
   ]
  },
  {
   "cell_type": "code",
   "execution_count": null,
   "metadata": {},
   "outputs": [],
   "source": []
  }
 ],
 "metadata": {
  "kernelspec": {
   "display_name": "Python 3",
   "language": "python",
   "name": "python3"
  },
  "language_info": {
   "codemirror_mode": {
    "name": "ipython",
    "version": 3
   },
   "file_extension": ".py",
   "mimetype": "text/x-python",
   "name": "python",
   "nbconvert_exporter": "python",
   "pygments_lexer": "ipython3",
   "version": "3.8.12"
  }
 },
 "nbformat": 4,
 "nbformat_minor": 4
}
